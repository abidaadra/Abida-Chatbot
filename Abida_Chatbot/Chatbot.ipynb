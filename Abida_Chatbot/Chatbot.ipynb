{
  "nbformat": 4,
  "nbformat_minor": 0,
  "metadata": {
    "colab": {
      "name": "Chatbot.ipynb",
      "provenance": []
    },
    "kernelspec": {
      "name": "python3",
      "display_name": "Python 3"
    },
    "language_info": {
      "name": "python"
    }
  },
  "cells": [
    {
      "cell_type": "markdown",
      "source": [
        "**Part 1 - Importing the Library**\n",
        "\n",
        "The main libraries that are used are tensorflow2, keras , numpy and pandas.\n"
      ],
      "metadata": {
        "id": "KzlDMG2AWtSE"
      }
    },
    {
      "cell_type": "code",
      "execution_count": 9,
      "metadata": {
        "id": "1jza78V2VIBA"
      },
      "outputs": [],
      "source": [
        "import tensorflow as tf\n",
        "import numpy as np\n",
        "import pandas as pd\n",
        "import json\n",
        "import nltk\n",
        "from tensorflow.keras.preprocessing.text import Tokenizer\n",
        "from tensorflow.keras.layers import Input, Embedding, LSTM , Dense,GlobalMaxPooling1D,Flatten\n",
        "from tensorflow.keras.models import Model\n",
        "import matplotlib.pyplot as plt"
      ]
    },
    {
      "cell_type": "markdown",
      "source": [
        "**Part 2 - Importing the data**\n",
        "\n",
        "The data is stored in a json file, which can be imported and used as a pandas dataframe. This data was manually created by me. hence, it's not that big.\n",
        "we all know that deep learning requires large chunks of data. but, That is not the case here. I have utilized a neural network architecture powerful enough to handle this small amount of data."
      ],
      "metadata": {
        "id": "cGCcekiYW3ux"
      }
    },
    {
      "cell_type": "markdown",
      "source": [
        "***2.1 - Importing the dataset***"
      ],
      "metadata": {
        "id": "8gY_zw0AXo9Z"
      }
    },
    {
      "cell_type": "code",
      "source": [
        "with open('content_copy.json') as content:\n",
        "  data1 = json.load(content)"
      ],
      "metadata": {
        "id": "RPMA5pLgW-Ou"
      },
      "execution_count": 10,
      "outputs": []
    },
    {
      "cell_type": "markdown",
      "source": [
        "***2.2 - Getting all the data to lists***"
      ],
      "metadata": {
        "id": "Xv-BLwahX1KT"
      }
    },
    {
      "cell_type": "code",
      "source": [
        "tags = []\n",
        "inputs = []\n",
        "responses={}\n",
        "for intent in data1['intents']:\n",
        "  responses[intent['tag']]=intent['responses']\n",
        "  for lines in intent['input']:\n",
        "    inputs.append(lines)\n",
        "    tags.append(intent['tag'])"
      ],
      "metadata": {
        "id": "g5G9nnnQXYkt"
      },
      "execution_count": 11,
      "outputs": []
    },
    {
      "cell_type": "markdown",
      "source": [
        "***2.3 - Converting to dataframe***"
      ],
      "metadata": {
        "id": "hBHshz_zYCPu"
      }
    },
    {
      "cell_type": "code",
      "source": [
        "data = pd.DataFrame({\"inputs\":inputs,\n",
        "                     \"tags\":tags})"
      ],
      "metadata": {
        "id": "aNntuYjaXbPJ"
      },
      "execution_count": 12,
      "outputs": []
    },
    {
      "cell_type": "markdown",
      "source": [
        "***2.4- Printing the data***"
      ],
      "metadata": {
        "id": "8ZyRBW2TYIh3"
      }
    },
    {
      "cell_type": "code",
      "source": [
        "data\n"
      ],
      "metadata": {
        "id": "sp5AVt1wXilp",
        "colab": {
          "base_uri": "https://localhost:8080/",
          "height": 424
        },
        "outputId": "96d63c95-c48b-4a7e-fde7-aa17705523ca"
      },
      "execution_count": 13,
      "outputs": [
        {
          "output_type": "execute_result",
          "data": {
            "text/plain": [
              "                                         inputs              tags\n",
              "0                                         hello          greeting\n",
              "1                                      hi there          greeting\n",
              "2                              nice to meet you          greeting\n",
              "3                  hi, is this is Abida's group          greeting\n",
              "4                                 anyone here ?          greeting\n",
              "..                                          ...               ...\n",
              "67  where is the Abida's group center located ?  whereisthecenter\n",
              "68       location of the Abida's group center ?  whereisthecenter\n",
              "69            Abida's group center's location ?  whereisthecenter\n",
              "70  where can I find the Abida's group center ?  whereisthecenter\n",
              "71  where can I find the Abida's group center ?  whereisthecenter\n",
              "\n",
              "[72 rows x 2 columns]"
            ],
            "text/html": [
              "\n",
              "  <div id=\"df-1b11f4c0-0bf0-48b5-871b-c0db95b487a2\">\n",
              "    <div class=\"colab-df-container\">\n",
              "      <div>\n",
              "<style scoped>\n",
              "    .dataframe tbody tr th:only-of-type {\n",
              "        vertical-align: middle;\n",
              "    }\n",
              "\n",
              "    .dataframe tbody tr th {\n",
              "        vertical-align: top;\n",
              "    }\n",
              "\n",
              "    .dataframe thead th {\n",
              "        text-align: right;\n",
              "    }\n",
              "</style>\n",
              "<table border=\"1\" class=\"dataframe\">\n",
              "  <thead>\n",
              "    <tr style=\"text-align: right;\">\n",
              "      <th></th>\n",
              "      <th>inputs</th>\n",
              "      <th>tags</th>\n",
              "    </tr>\n",
              "  </thead>\n",
              "  <tbody>\n",
              "    <tr>\n",
              "      <th>0</th>\n",
              "      <td>hello</td>\n",
              "      <td>greeting</td>\n",
              "    </tr>\n",
              "    <tr>\n",
              "      <th>1</th>\n",
              "      <td>hi there</td>\n",
              "      <td>greeting</td>\n",
              "    </tr>\n",
              "    <tr>\n",
              "      <th>2</th>\n",
              "      <td>nice to meet you</td>\n",
              "      <td>greeting</td>\n",
              "    </tr>\n",
              "    <tr>\n",
              "      <th>3</th>\n",
              "      <td>hi, is this is Abida's group</td>\n",
              "      <td>greeting</td>\n",
              "    </tr>\n",
              "    <tr>\n",
              "      <th>4</th>\n",
              "      <td>anyone here ?</td>\n",
              "      <td>greeting</td>\n",
              "    </tr>\n",
              "    <tr>\n",
              "      <th>...</th>\n",
              "      <td>...</td>\n",
              "      <td>...</td>\n",
              "    </tr>\n",
              "    <tr>\n",
              "      <th>67</th>\n",
              "      <td>where is the Abida's group center located ?</td>\n",
              "      <td>whereisthecenter</td>\n",
              "    </tr>\n",
              "    <tr>\n",
              "      <th>68</th>\n",
              "      <td>location of the Abida's group center ?</td>\n",
              "      <td>whereisthecenter</td>\n",
              "    </tr>\n",
              "    <tr>\n",
              "      <th>69</th>\n",
              "      <td>Abida's group center's location ?</td>\n",
              "      <td>whereisthecenter</td>\n",
              "    </tr>\n",
              "    <tr>\n",
              "      <th>70</th>\n",
              "      <td>where can I find the Abida's group center ?</td>\n",
              "      <td>whereisthecenter</td>\n",
              "    </tr>\n",
              "    <tr>\n",
              "      <th>71</th>\n",
              "      <td>where can I find the Abida's group center ?</td>\n",
              "      <td>whereisthecenter</td>\n",
              "    </tr>\n",
              "  </tbody>\n",
              "</table>\n",
              "<p>72 rows × 2 columns</p>\n",
              "</div>\n",
              "      <button class=\"colab-df-convert\" onclick=\"convertToInteractive('df-1b11f4c0-0bf0-48b5-871b-c0db95b487a2')\"\n",
              "              title=\"Convert this dataframe to an interactive table.\"\n",
              "              style=\"display:none;\">\n",
              "        \n",
              "  <svg xmlns=\"http://www.w3.org/2000/svg\" height=\"24px\"viewBox=\"0 0 24 24\"\n",
              "       width=\"24px\">\n",
              "    <path d=\"M0 0h24v24H0V0z\" fill=\"none\"/>\n",
              "    <path d=\"M18.56 5.44l.94 2.06.94-2.06 2.06-.94-2.06-.94-.94-2.06-.94 2.06-2.06.94zm-11 1L8.5 8.5l.94-2.06 2.06-.94-2.06-.94L8.5 2.5l-.94 2.06-2.06.94zm10 10l.94 2.06.94-2.06 2.06-.94-2.06-.94-.94-2.06-.94 2.06-2.06.94z\"/><path d=\"M17.41 7.96l-1.37-1.37c-.4-.4-.92-.59-1.43-.59-.52 0-1.04.2-1.43.59L10.3 9.45l-7.72 7.72c-.78.78-.78 2.05 0 2.83L4 21.41c.39.39.9.59 1.41.59.51 0 1.02-.2 1.41-.59l7.78-7.78 2.81-2.81c.8-.78.8-2.07 0-2.86zM5.41 20L4 18.59l7.72-7.72 1.47 1.35L5.41 20z\"/>\n",
              "  </svg>\n",
              "      </button>\n",
              "      \n",
              "  <style>\n",
              "    .colab-df-container {\n",
              "      display:flex;\n",
              "      flex-wrap:wrap;\n",
              "      gap: 12px;\n",
              "    }\n",
              "\n",
              "    .colab-df-convert {\n",
              "      background-color: #E8F0FE;\n",
              "      border: none;\n",
              "      border-radius: 50%;\n",
              "      cursor: pointer;\n",
              "      display: none;\n",
              "      fill: #1967D2;\n",
              "      height: 32px;\n",
              "      padding: 0 0 0 0;\n",
              "      width: 32px;\n",
              "    }\n",
              "\n",
              "    .colab-df-convert:hover {\n",
              "      background-color: #E2EBFA;\n",
              "      box-shadow: 0px 1px 2px rgba(60, 64, 67, 0.3), 0px 1px 3px 1px rgba(60, 64, 67, 0.15);\n",
              "      fill: #174EA6;\n",
              "    }\n",
              "\n",
              "    [theme=dark] .colab-df-convert {\n",
              "      background-color: #3B4455;\n",
              "      fill: #D2E3FC;\n",
              "    }\n",
              "\n",
              "    [theme=dark] .colab-df-convert:hover {\n",
              "      background-color: #434B5C;\n",
              "      box-shadow: 0px 1px 3px 1px rgba(0, 0, 0, 0.15);\n",
              "      filter: drop-shadow(0px 1px 2px rgba(0, 0, 0, 0.3));\n",
              "      fill: #FFFFFF;\n",
              "    }\n",
              "  </style>\n",
              "\n",
              "      <script>\n",
              "        const buttonEl =\n",
              "          document.querySelector('#df-1b11f4c0-0bf0-48b5-871b-c0db95b487a2 button.colab-df-convert');\n",
              "        buttonEl.style.display =\n",
              "          google.colab.kernel.accessAllowed ? 'block' : 'none';\n",
              "\n",
              "        async function convertToInteractive(key) {\n",
              "          const element = document.querySelector('#df-1b11f4c0-0bf0-48b5-871b-c0db95b487a2');\n",
              "          const dataTable =\n",
              "            await google.colab.kernel.invokeFunction('convertToInteractive',\n",
              "                                                     [key], {});\n",
              "          if (!dataTable) return;\n",
              "\n",
              "          const docLinkHtml = 'Like what you see? Visit the ' +\n",
              "            '<a target=\"_blank\" href=https://colab.research.google.com/notebooks/data_table.ipynb>data table notebook</a>'\n",
              "            + ' to learn more about interactive tables.';\n",
              "          element.innerHTML = '';\n",
              "          dataTable['output_type'] = 'display_data';\n",
              "          await google.colab.output.renderOutput(dataTable, element);\n",
              "          const docLink = document.createElement('div');\n",
              "          docLink.innerHTML = docLinkHtml;\n",
              "          element.appendChild(docLink);\n",
              "        }\n",
              "      </script>\n",
              "    </div>\n",
              "  </div>\n",
              "  "
            ]
          },
          "metadata": {},
          "execution_count": 13
        }
      ]
    },
    {
      "cell_type": "code",
      "source": [
        "data = data.sample(frac=1)"
      ],
      "metadata": {
        "id": "nDPVGv0iZIml"
      },
      "execution_count": 14,
      "outputs": []
    },
    {
      "cell_type": "markdown",
      "source": [
        "**Part 3 - Pre-Processing**\n",
        "\n",
        "Important pre-processing such as removing the punctuations, converting to lowercase, encoding the textual data to numerical data are done.\n",
        "\n"
      ],
      "metadata": {
        "id": "D-P5QxmQZWfj"
      }
    },
    {
      "cell_type": "markdown",
      "source": [
        "***3.1 - Removing punctuations***"
      ],
      "metadata": {
        "id": "4zMrWob2Zfan"
      }
    },
    {
      "cell_type": "code",
      "source": [
        "import string\n",
        "data['inputs'] = data['inputs'].apply(lambda wrd:[ltrs.lower() for ltrs in wrd if ltrs not in string.punctuation])\n",
        "data['inputs'] = data['inputs'].apply(lambda wrd: ''.join(wrd))\n",
        "data"
      ],
      "metadata": {
        "id": "y4NttITsZqKa",
        "colab": {
          "base_uri": "https://localhost:8080/",
          "height": 424
        },
        "outputId": "e9b69b91-d2c3-409e-d8a4-21ef2a3a2ec0"
      },
      "execution_count": 15,
      "outputs": [
        {
          "output_type": "execute_result",
          "data": {
            "text/plain": [
              "                         inputs         tags\n",
              "24        i will catch up later      goodbye\n",
              "4                  anyone here      greeting\n",
              "23       i will catch you later      goodbye\n",
              "25    okay i will see you later      goodbye\n",
              "55           you are from where  whereareyou\n",
              "..                          ...          ...\n",
              "48  which country are you from   whereareyou\n",
              "43                   your name     whoareyou\n",
              "40           what is your name     whoareyou\n",
              "38                 who are you     whoareyou\n",
              "30                 how are you        howami\n",
              "\n",
              "[72 rows x 2 columns]"
            ],
            "text/html": [
              "\n",
              "  <div id=\"df-6cbdfbe9-417f-49d0-918a-69447260fb62\">\n",
              "    <div class=\"colab-df-container\">\n",
              "      <div>\n",
              "<style scoped>\n",
              "    .dataframe tbody tr th:only-of-type {\n",
              "        vertical-align: middle;\n",
              "    }\n",
              "\n",
              "    .dataframe tbody tr th {\n",
              "        vertical-align: top;\n",
              "    }\n",
              "\n",
              "    .dataframe thead th {\n",
              "        text-align: right;\n",
              "    }\n",
              "</style>\n",
              "<table border=\"1\" class=\"dataframe\">\n",
              "  <thead>\n",
              "    <tr style=\"text-align: right;\">\n",
              "      <th></th>\n",
              "      <th>inputs</th>\n",
              "      <th>tags</th>\n",
              "    </tr>\n",
              "  </thead>\n",
              "  <tbody>\n",
              "    <tr>\n",
              "      <th>24</th>\n",
              "      <td>i will catch up later</td>\n",
              "      <td>goodbye</td>\n",
              "    </tr>\n",
              "    <tr>\n",
              "      <th>4</th>\n",
              "      <td>anyone here</td>\n",
              "      <td>greeting</td>\n",
              "    </tr>\n",
              "    <tr>\n",
              "      <th>23</th>\n",
              "      <td>i will catch you later</td>\n",
              "      <td>goodbye</td>\n",
              "    </tr>\n",
              "    <tr>\n",
              "      <th>25</th>\n",
              "      <td>okay i will see you later</td>\n",
              "      <td>goodbye</td>\n",
              "    </tr>\n",
              "    <tr>\n",
              "      <th>55</th>\n",
              "      <td>you are from where</td>\n",
              "      <td>whereareyou</td>\n",
              "    </tr>\n",
              "    <tr>\n",
              "      <th>...</th>\n",
              "      <td>...</td>\n",
              "      <td>...</td>\n",
              "    </tr>\n",
              "    <tr>\n",
              "      <th>48</th>\n",
              "      <td>which country are you from</td>\n",
              "      <td>whereareyou</td>\n",
              "    </tr>\n",
              "    <tr>\n",
              "      <th>43</th>\n",
              "      <td>your name</td>\n",
              "      <td>whoareyou</td>\n",
              "    </tr>\n",
              "    <tr>\n",
              "      <th>40</th>\n",
              "      <td>what is your name</td>\n",
              "      <td>whoareyou</td>\n",
              "    </tr>\n",
              "    <tr>\n",
              "      <th>38</th>\n",
              "      <td>who are you</td>\n",
              "      <td>whoareyou</td>\n",
              "    </tr>\n",
              "    <tr>\n",
              "      <th>30</th>\n",
              "      <td>how are you</td>\n",
              "      <td>howami</td>\n",
              "    </tr>\n",
              "  </tbody>\n",
              "</table>\n",
              "<p>72 rows × 2 columns</p>\n",
              "</div>\n",
              "      <button class=\"colab-df-convert\" onclick=\"convertToInteractive('df-6cbdfbe9-417f-49d0-918a-69447260fb62')\"\n",
              "              title=\"Convert this dataframe to an interactive table.\"\n",
              "              style=\"display:none;\">\n",
              "        \n",
              "  <svg xmlns=\"http://www.w3.org/2000/svg\" height=\"24px\"viewBox=\"0 0 24 24\"\n",
              "       width=\"24px\">\n",
              "    <path d=\"M0 0h24v24H0V0z\" fill=\"none\"/>\n",
              "    <path d=\"M18.56 5.44l.94 2.06.94-2.06 2.06-.94-2.06-.94-.94-2.06-.94 2.06-2.06.94zm-11 1L8.5 8.5l.94-2.06 2.06-.94-2.06-.94L8.5 2.5l-.94 2.06-2.06.94zm10 10l.94 2.06.94-2.06 2.06-.94-2.06-.94-.94-2.06-.94 2.06-2.06.94z\"/><path d=\"M17.41 7.96l-1.37-1.37c-.4-.4-.92-.59-1.43-.59-.52 0-1.04.2-1.43.59L10.3 9.45l-7.72 7.72c-.78.78-.78 2.05 0 2.83L4 21.41c.39.39.9.59 1.41.59.51 0 1.02-.2 1.41-.59l7.78-7.78 2.81-2.81c.8-.78.8-2.07 0-2.86zM5.41 20L4 18.59l7.72-7.72 1.47 1.35L5.41 20z\"/>\n",
              "  </svg>\n",
              "      </button>\n",
              "      \n",
              "  <style>\n",
              "    .colab-df-container {\n",
              "      display:flex;\n",
              "      flex-wrap:wrap;\n",
              "      gap: 12px;\n",
              "    }\n",
              "\n",
              "    .colab-df-convert {\n",
              "      background-color: #E8F0FE;\n",
              "      border: none;\n",
              "      border-radius: 50%;\n",
              "      cursor: pointer;\n",
              "      display: none;\n",
              "      fill: #1967D2;\n",
              "      height: 32px;\n",
              "      padding: 0 0 0 0;\n",
              "      width: 32px;\n",
              "    }\n",
              "\n",
              "    .colab-df-convert:hover {\n",
              "      background-color: #E2EBFA;\n",
              "      box-shadow: 0px 1px 2px rgba(60, 64, 67, 0.3), 0px 1px 3px 1px rgba(60, 64, 67, 0.15);\n",
              "      fill: #174EA6;\n",
              "    }\n",
              "\n",
              "    [theme=dark] .colab-df-convert {\n",
              "      background-color: #3B4455;\n",
              "      fill: #D2E3FC;\n",
              "    }\n",
              "\n",
              "    [theme=dark] .colab-df-convert:hover {\n",
              "      background-color: #434B5C;\n",
              "      box-shadow: 0px 1px 3px 1px rgba(0, 0, 0, 0.15);\n",
              "      filter: drop-shadow(0px 1px 2px rgba(0, 0, 0, 0.3));\n",
              "      fill: #FFFFFF;\n",
              "    }\n",
              "  </style>\n",
              "\n",
              "      <script>\n",
              "        const buttonEl =\n",
              "          document.querySelector('#df-6cbdfbe9-417f-49d0-918a-69447260fb62 button.colab-df-convert');\n",
              "        buttonEl.style.display =\n",
              "          google.colab.kernel.accessAllowed ? 'block' : 'none';\n",
              "\n",
              "        async function convertToInteractive(key) {\n",
              "          const element = document.querySelector('#df-6cbdfbe9-417f-49d0-918a-69447260fb62');\n",
              "          const dataTable =\n",
              "            await google.colab.kernel.invokeFunction('convertToInteractive',\n",
              "                                                     [key], {});\n",
              "          if (!dataTable) return;\n",
              "\n",
              "          const docLinkHtml = 'Like what you see? Visit the ' +\n",
              "            '<a target=\"_blank\" href=https://colab.research.google.com/notebooks/data_table.ipynb>data table notebook</a>'\n",
              "            + ' to learn more about interactive tables.';\n",
              "          element.innerHTML = '';\n",
              "          dataTable['output_type'] = 'display_data';\n",
              "          await google.colab.output.renderOutput(dataTable, element);\n",
              "          const docLink = document.createElement('div');\n",
              "          docLink.innerHTML = docLinkHtml;\n",
              "          element.appendChild(docLink);\n",
              "        }\n",
              "      </script>\n",
              "    </div>\n",
              "  </div>\n",
              "  "
            ]
          },
          "metadata": {},
          "execution_count": 15
        }
      ]
    },
    {
      "cell_type": "markdown",
      "source": [
        "***3.2 - Tokenize the data***"
      ],
      "metadata": {
        "id": "34kmoaU0Z1MJ"
      }
    },
    {
      "cell_type": "code",
      "source": [
        "from tensorflow.keras.preprocessing.text import Tokenizer\n",
        "tokenizer = Tokenizer(num_words=2000)\n",
        "tokenizer.fit_on_texts(data['inputs'])\n",
        "train = tokenizer.texts_to_sequences(data['inputs'])"
      ],
      "metadata": {
        "id": "5lREagczay6e"
      },
      "execution_count": 16,
      "outputs": []
    },
    {
      "cell_type": "markdown",
      "source": [
        "***3.3 - Apply padding***"
      ],
      "metadata": {
        "id": "oh0oBiFoa3uu"
      }
    },
    {
      "cell_type": "code",
      "source": [
        "from tensorflow.keras.preprocessing.sequence import pad_sequences\n",
        "x_train = pad_sequences(train)"
      ],
      "metadata": {
        "id": "OOPVNKIQbCFx"
      },
      "execution_count": 17,
      "outputs": []
    },
    {
      "cell_type": "markdown",
      "source": [
        "***3.4 - Encoding the outputs***"
      ],
      "metadata": {
        "id": "S9s3n83ibIWq"
      }
    },
    {
      "cell_type": "code",
      "source": [
        "from sklearn.preprocessing import LabelEncoder\n",
        "le = LabelEncoder()\n",
        "y_train = le.fit_transform(data['tags'])"
      ],
      "metadata": {
        "id": "7Bh-kd8DbRCY"
      },
      "execution_count": 18,
      "outputs": []
    },
    {
      "cell_type": "markdown",
      "source": [
        "***3.5 - Tensorflow's tokenizer assigns a unique token to each distinct word. and padding is done to get all the data to the same length so as to send it to an rnn layer***"
      ],
      "metadata": {
        "id": "6VxURH3lbV-o"
      }
    },
    {
      "cell_type": "code",
      "source": [
        "input_shape = x_train.shape[1]\n",
        "print(input_shape)"
      ],
      "metadata": {
        "id": "_Mw0tP5tbcuN",
        "colab": {
          "base_uri": "https://localhost:8080/"
        },
        "outputId": "8a21acb3-a9cf-47ef-ab2f-49ee39956a96"
      },
      "execution_count": 19,
      "outputs": [
        {
          "output_type": "stream",
          "name": "stdout",
          "text": [
            "8\n"
          ]
        }
      ]
    },
    {
      "cell_type": "markdown",
      "source": [
        "***3.6 - Define vocabulary***"
      ],
      "metadata": {
        "id": "M9pl00LUbmgK"
      }
    },
    {
      "cell_type": "code",
      "source": [
        "vocabulary = len(tokenizer.word_index)\n",
        "print(\"number of unique words : \",vocabulary)\n",
        "output_length = le.classes_.shape[0]\n",
        "print(\"output length: \",output_length)"
      ],
      "metadata": {
        "id": "s43O0fPPbwum",
        "colab": {
          "base_uri": "https://localhost:8080/"
        },
        "outputId": "c001fddb-b7f6-46fe-8fd7-b1cdcfbff8b1"
      },
      "execution_count": 20,
      "outputs": [
        {
          "output_type": "stream",
          "name": "stdout",
          "text": [
            "number of unique words :  77\n",
            "output length:  7\n"
          ]
        }
      ]
    },
    {
      "cell_type": "markdown",
      "source": [
        "**Part 4 - Neural Network**\n",
        "\n",
        "The Network consist of an embedding layer which is one of the most powerful things in the field of natural language processing. the outputs of the embedding layer is the input of the reccurent layer with lstm gate. then, the output is flattened and a regular dense layer is used with a softmax activation function.\n",
        "\n",
        "The main part is the embedding layer which gives has a corresponding vector for each word in the dataset."
      ],
      "metadata": {
        "id": "7iurrwENb80v"
      }
    },
    {
      "cell_type": "markdown",
      "source": [
        "***4.1 - Creating the model***"
      ],
      "metadata": {
        "id": "kq2poaW5cR-l"
      }
    },
    {
      "cell_type": "code",
      "source": [
        "i = Input(shape=(input_shape,))\n",
        "x = Embedding(vocabulary+1,10)(i)\n",
        "x = LSTM(10,return_sequences=True)(x)\n",
        "x = Flatten()(x)\n",
        "x = Dense(output_length,activation=\"softmax\")(x)\n",
        "model  = Model(i,x)"
      ],
      "metadata": {
        "id": "nF-4wgX1cZaa"
      },
      "execution_count": 21,
      "outputs": []
    },
    {
      "cell_type": "markdown",
      "source": [
        "***4.2 - Compiling the model***"
      ],
      "metadata": {
        "id": "tUWwCAHPcg0t"
      }
    },
    {
      "cell_type": "code",
      "source": [
        "model.compile(loss=\"sparse_categorical_crossentropy\",optimizer='adam',metrics=['accuracy'])\n"
      ],
      "metadata": {
        "id": "M_oMGgKqcl1V"
      },
      "execution_count": 22,
      "outputs": []
    },
    {
      "cell_type": "markdown",
      "source": [
        "***4.3 - Training the model***"
      ],
      "metadata": {
        "id": "zAxD7_HWcqB-"
      }
    },
    {
      "cell_type": "code",
      "source": [
        "train = model.fit(x_train,y_train,epochs=200)"
      ],
      "metadata": {
        "id": "kuG0W0Iac1QT",
        "colab": {
          "base_uri": "https://localhost:8080/"
        },
        "outputId": "ff5a869e-3b31-43c6-84f2-b2dee92583f0"
      },
      "execution_count": 23,
      "outputs": [
        {
          "output_type": "stream",
          "name": "stdout",
          "text": [
            "Epoch 1/200\n",
            "3/3 [==============================] - 2s 7ms/step - loss: 1.9499 - accuracy: 0.1528\n",
            "Epoch 2/200\n",
            "3/3 [==============================] - 0s 6ms/step - loss: 1.9455 - accuracy: 0.1250\n",
            "Epoch 3/200\n",
            "3/3 [==============================] - 0s 7ms/step - loss: 1.9414 - accuracy: 0.1389\n",
            "Epoch 4/200\n",
            "3/3 [==============================] - 0s 7ms/step - loss: 1.9379 - accuracy: 0.1528\n",
            "Epoch 5/200\n",
            "3/3 [==============================] - 0s 8ms/step - loss: 1.9345 - accuracy: 0.1806\n",
            "Epoch 6/200\n",
            "3/3 [==============================] - 0s 7ms/step - loss: 1.9309 - accuracy: 0.2500\n",
            "Epoch 7/200\n",
            "3/3 [==============================] - 0s 6ms/step - loss: 1.9273 - accuracy: 0.2500\n",
            "Epoch 8/200\n",
            "3/3 [==============================] - 0s 6ms/step - loss: 1.9237 - accuracy: 0.2361\n",
            "Epoch 9/200\n",
            "3/3 [==============================] - 0s 6ms/step - loss: 1.9196 - accuracy: 0.2222\n",
            "Epoch 10/200\n",
            "3/3 [==============================] - 0s 7ms/step - loss: 1.9148 - accuracy: 0.2222\n",
            "Epoch 11/200\n",
            "3/3 [==============================] - 0s 6ms/step - loss: 1.9098 - accuracy: 0.2222\n",
            "Epoch 12/200\n",
            "3/3 [==============================] - 0s 6ms/step - loss: 1.9045 - accuracy: 0.2222\n",
            "Epoch 13/200\n",
            "3/3 [==============================] - 0s 7ms/step - loss: 1.8983 - accuracy: 0.2222\n",
            "Epoch 14/200\n",
            "3/3 [==============================] - 0s 6ms/step - loss: 1.8917 - accuracy: 0.2222\n",
            "Epoch 15/200\n",
            "3/3 [==============================] - 0s 9ms/step - loss: 1.8851 - accuracy: 0.2222\n",
            "Epoch 16/200\n",
            "3/3 [==============================] - 0s 7ms/step - loss: 1.8781 - accuracy: 0.2222\n",
            "Epoch 17/200\n",
            "3/3 [==============================] - 0s 8ms/step - loss: 1.8690 - accuracy: 0.2222\n",
            "Epoch 18/200\n",
            "3/3 [==============================] - 0s 6ms/step - loss: 1.8604 - accuracy: 0.2222\n",
            "Epoch 19/200\n",
            "3/3 [==============================] - 0s 7ms/step - loss: 1.8507 - accuracy: 0.2222\n",
            "Epoch 20/200\n",
            "3/3 [==============================] - 0s 7ms/step - loss: 1.8410 - accuracy: 0.2222\n",
            "Epoch 21/200\n",
            "3/3 [==============================] - 0s 6ms/step - loss: 1.8297 - accuracy: 0.2222\n",
            "Epoch 22/200\n",
            "3/3 [==============================] - 0s 7ms/step - loss: 1.8177 - accuracy: 0.2222\n",
            "Epoch 23/200\n",
            "3/3 [==============================] - 0s 7ms/step - loss: 1.8061 - accuracy: 0.2222\n",
            "Epoch 24/200\n",
            "3/3 [==============================] - 0s 7ms/step - loss: 1.7936 - accuracy: 0.2222\n",
            "Epoch 25/200\n",
            "3/3 [==============================] - 0s 8ms/step - loss: 1.7787 - accuracy: 0.2222\n",
            "Epoch 26/200\n",
            "3/3 [==============================] - 0s 7ms/step - loss: 1.7655 - accuracy: 0.2222\n",
            "Epoch 27/200\n",
            "3/3 [==============================] - 0s 7ms/step - loss: 1.7503 - accuracy: 0.2222\n",
            "Epoch 28/200\n",
            "3/3 [==============================] - 0s 6ms/step - loss: 1.7350 - accuracy: 0.2222\n",
            "Epoch 29/200\n",
            "3/3 [==============================] - 0s 8ms/step - loss: 1.7191 - accuracy: 0.2222\n",
            "Epoch 30/200\n",
            "3/3 [==============================] - 0s 7ms/step - loss: 1.7036 - accuracy: 0.2222\n",
            "Epoch 31/200\n",
            "3/3 [==============================] - 0s 7ms/step - loss: 1.6856 - accuracy: 0.2500\n",
            "Epoch 32/200\n",
            "3/3 [==============================] - 0s 7ms/step - loss: 1.6672 - accuracy: 0.2500\n",
            "Epoch 33/200\n",
            "3/3 [==============================] - 0s 7ms/step - loss: 1.6475 - accuracy: 0.2500\n",
            "Epoch 34/200\n",
            "3/3 [==============================] - 0s 7ms/step - loss: 1.6265 - accuracy: 0.3056\n",
            "Epoch 35/200\n",
            "3/3 [==============================] - 0s 8ms/step - loss: 1.6062 - accuracy: 0.3611\n",
            "Epoch 36/200\n",
            "3/3 [==============================] - 0s 7ms/step - loss: 1.5848 - accuracy: 0.3889\n",
            "Epoch 37/200\n",
            "3/3 [==============================] - 0s 7ms/step - loss: 1.5620 - accuracy: 0.3889\n",
            "Epoch 38/200\n",
            "3/3 [==============================] - 0s 8ms/step - loss: 1.5375 - accuracy: 0.3611\n",
            "Epoch 39/200\n",
            "3/3 [==============================] - 0s 7ms/step - loss: 1.5126 - accuracy: 0.3611\n",
            "Epoch 40/200\n",
            "3/3 [==============================] - 0s 6ms/step - loss: 1.4884 - accuracy: 0.3750\n",
            "Epoch 41/200\n",
            "3/3 [==============================] - 0s 8ms/step - loss: 1.4644 - accuracy: 0.3611\n",
            "Epoch 42/200\n",
            "3/3 [==============================] - 0s 7ms/step - loss: 1.4402 - accuracy: 0.3611\n",
            "Epoch 43/200\n",
            "3/3 [==============================] - 0s 7ms/step - loss: 1.4152 - accuracy: 0.3750\n",
            "Epoch 44/200\n",
            "3/3 [==============================] - 0s 7ms/step - loss: 1.3900 - accuracy: 0.3889\n",
            "Epoch 45/200\n",
            "3/3 [==============================] - 0s 7ms/step - loss: 1.3646 - accuracy: 0.4444\n",
            "Epoch 46/200\n",
            "3/3 [==============================] - 0s 7ms/step - loss: 1.3407 - accuracy: 0.5000\n",
            "Epoch 47/200\n",
            "3/3 [==============================] - 0s 7ms/step - loss: 1.3170 - accuracy: 0.5417\n",
            "Epoch 48/200\n",
            "3/3 [==============================] - 0s 7ms/step - loss: 1.2929 - accuracy: 0.4722\n",
            "Epoch 49/200\n",
            "3/3 [==============================] - 0s 7ms/step - loss: 1.2697 - accuracy: 0.4444\n",
            "Epoch 50/200\n",
            "3/3 [==============================] - 0s 7ms/step - loss: 1.2484 - accuracy: 0.4167\n",
            "Epoch 51/200\n",
            "3/3 [==============================] - 0s 7ms/step - loss: 1.2243 - accuracy: 0.4583\n",
            "Epoch 52/200\n",
            "3/3 [==============================] - 0s 10ms/step - loss: 1.2033 - accuracy: 0.5694\n",
            "Epoch 53/200\n",
            "3/3 [==============================] - 0s 7ms/step - loss: 1.1857 - accuracy: 0.5694\n",
            "Epoch 54/200\n",
            "3/3 [==============================] - 0s 7ms/step - loss: 1.1665 - accuracy: 0.5833\n",
            "Epoch 55/200\n",
            "3/3 [==============================] - 0s 7ms/step - loss: 1.1437 - accuracy: 0.5833\n",
            "Epoch 56/200\n",
            "3/3 [==============================] - 0s 7ms/step - loss: 1.1222 - accuracy: 0.5833\n",
            "Epoch 57/200\n",
            "3/3 [==============================] - 0s 6ms/step - loss: 1.1041 - accuracy: 0.6111\n",
            "Epoch 58/200\n",
            "3/3 [==============================] - 0s 10ms/step - loss: 1.0857 - accuracy: 0.6250\n",
            "Epoch 59/200\n",
            "3/3 [==============================] - 0s 7ms/step - loss: 1.0651 - accuracy: 0.5972\n",
            "Epoch 60/200\n",
            "3/3 [==============================] - 0s 6ms/step - loss: 1.0454 - accuracy: 0.6111\n",
            "Epoch 61/200\n",
            "3/3 [==============================] - 0s 11ms/step - loss: 1.0298 - accuracy: 0.6250\n",
            "Epoch 62/200\n",
            "3/3 [==============================] - 0s 7ms/step - loss: 1.0127 - accuracy: 0.6250\n",
            "Epoch 63/200\n",
            "3/3 [==============================] - 0s 7ms/step - loss: 0.9930 - accuracy: 0.6528\n",
            "Epoch 64/200\n",
            "3/3 [==============================] - 0s 7ms/step - loss: 0.9765 - accuracy: 0.6806\n",
            "Epoch 65/200\n",
            "3/3 [==============================] - 0s 7ms/step - loss: 0.9596 - accuracy: 0.6944\n",
            "Epoch 66/200\n",
            "3/3 [==============================] - 0s 7ms/step - loss: 0.9471 - accuracy: 0.6944\n",
            "Epoch 67/200\n",
            "3/3 [==============================] - 0s 7ms/step - loss: 0.9292 - accuracy: 0.6944\n",
            "Epoch 68/200\n",
            "3/3 [==============================] - 0s 7ms/step - loss: 0.9127 - accuracy: 0.7083\n",
            "Epoch 69/200\n",
            "3/3 [==============================] - 0s 7ms/step - loss: 0.8983 - accuracy: 0.7500\n",
            "Epoch 70/200\n",
            "3/3 [==============================] - 0s 7ms/step - loss: 0.8857 - accuracy: 0.7500\n",
            "Epoch 71/200\n",
            "3/3 [==============================] - 0s 7ms/step - loss: 0.8687 - accuracy: 0.7361\n",
            "Epoch 72/200\n",
            "3/3 [==============================] - 0s 7ms/step - loss: 0.8543 - accuracy: 0.7500\n",
            "Epoch 73/200\n",
            "3/3 [==============================] - 0s 9ms/step - loss: 0.8405 - accuracy: 0.7361\n",
            "Epoch 74/200\n",
            "3/3 [==============================] - 0s 7ms/step - loss: 0.8269 - accuracy: 0.7222\n",
            "Epoch 75/200\n",
            "3/3 [==============================] - 0s 6ms/step - loss: 0.8125 - accuracy: 0.7639\n",
            "Epoch 76/200\n",
            "3/3 [==============================] - 0s 7ms/step - loss: 0.7998 - accuracy: 0.7778\n",
            "Epoch 77/200\n",
            "3/3 [==============================] - 0s 7ms/step - loss: 0.7854 - accuracy: 0.7917\n",
            "Epoch 78/200\n",
            "3/3 [==============================] - 0s 8ms/step - loss: 0.7721 - accuracy: 0.7778\n",
            "Epoch 79/200\n",
            "3/3 [==============================] - 0s 7ms/step - loss: 0.7613 - accuracy: 0.7361\n",
            "Epoch 80/200\n",
            "3/3 [==============================] - 0s 7ms/step - loss: 0.7472 - accuracy: 0.7361\n",
            "Epoch 81/200\n",
            "3/3 [==============================] - 0s 7ms/step - loss: 0.7361 - accuracy: 0.7917\n",
            "Epoch 82/200\n",
            "3/3 [==============================] - 0s 7ms/step - loss: 0.7229 - accuracy: 0.8194\n",
            "Epoch 83/200\n",
            "3/3 [==============================] - 0s 7ms/step - loss: 0.7107 - accuracy: 0.7778\n",
            "Epoch 84/200\n",
            "3/3 [==============================] - 0s 7ms/step - loss: 0.6973 - accuracy: 0.7639\n",
            "Epoch 85/200\n",
            "3/3 [==============================] - 0s 9ms/step - loss: 0.6857 - accuracy: 0.7639\n",
            "Epoch 86/200\n",
            "3/3 [==============================] - 0s 7ms/step - loss: 0.6770 - accuracy: 0.7639\n",
            "Epoch 87/200\n",
            "3/3 [==============================] - 0s 10ms/step - loss: 0.6636 - accuracy: 0.7917\n",
            "Epoch 88/200\n",
            "3/3 [==============================] - 0s 8ms/step - loss: 0.6508 - accuracy: 0.7639\n",
            "Epoch 89/200\n",
            "3/3 [==============================] - 0s 7ms/step - loss: 0.6417 - accuracy: 0.7778\n",
            "Epoch 90/200\n",
            "3/3 [==============================] - 0s 7ms/step - loss: 0.6329 - accuracy: 0.7778\n",
            "Epoch 91/200\n",
            "3/3 [==============================] - 0s 7ms/step - loss: 0.6198 - accuracy: 0.8194\n",
            "Epoch 92/200\n",
            "3/3 [==============================] - 0s 6ms/step - loss: 0.6064 - accuracy: 0.8056\n",
            "Epoch 93/200\n",
            "3/3 [==============================] - 0s 9ms/step - loss: 0.5969 - accuracy: 0.8194\n",
            "Epoch 94/200\n",
            "3/3 [==============================] - 0s 8ms/step - loss: 0.5910 - accuracy: 0.8194\n",
            "Epoch 95/200\n",
            "3/3 [==============================] - 0s 7ms/step - loss: 0.5793 - accuracy: 0.8194\n",
            "Epoch 96/200\n",
            "3/3 [==============================] - 0s 7ms/step - loss: 0.5664 - accuracy: 0.8194\n",
            "Epoch 97/200\n",
            "3/3 [==============================] - 0s 8ms/step - loss: 0.5567 - accuracy: 0.8611\n",
            "Epoch 98/200\n",
            "3/3 [==============================] - 0s 7ms/step - loss: 0.5483 - accuracy: 0.8611\n",
            "Epoch 99/200\n",
            "3/3 [==============================] - 0s 7ms/step - loss: 0.5372 - accuracy: 0.8333\n",
            "Epoch 100/200\n",
            "3/3 [==============================] - 0s 8ms/step - loss: 0.5282 - accuracy: 0.8194\n",
            "Epoch 101/200\n",
            "3/3 [==============================] - 0s 7ms/step - loss: 0.5200 - accuracy: 0.8194\n",
            "Epoch 102/200\n",
            "3/3 [==============================] - 0s 7ms/step - loss: 0.5100 - accuracy: 0.8194\n",
            "Epoch 103/200\n",
            "3/3 [==============================] - 0s 7ms/step - loss: 0.5062 - accuracy: 0.8472\n",
            "Epoch 104/200\n",
            "3/3 [==============================] - 0s 7ms/step - loss: 0.4995 - accuracy: 0.8472\n",
            "Epoch 105/200\n",
            "3/3 [==============================] - 0s 7ms/step - loss: 0.4882 - accuracy: 0.8889\n",
            "Epoch 106/200\n",
            "3/3 [==============================] - 0s 7ms/step - loss: 0.4813 - accuracy: 0.8472\n",
            "Epoch 107/200\n",
            "3/3 [==============================] - 0s 7ms/step - loss: 0.4809 - accuracy: 0.8750\n",
            "Epoch 108/200\n",
            "3/3 [==============================] - 0s 6ms/step - loss: 0.4646 - accuracy: 0.8889\n",
            "Epoch 109/200\n",
            "3/3 [==============================] - 0s 6ms/step - loss: 0.4543 - accuracy: 0.9028\n",
            "Epoch 110/200\n",
            "3/3 [==============================] - 0s 7ms/step - loss: 0.4572 - accuracy: 0.8889\n",
            "Epoch 111/200\n",
            "3/3 [==============================] - 0s 7ms/step - loss: 0.4450 - accuracy: 0.9167\n",
            "Epoch 112/200\n",
            "3/3 [==============================] - 0s 6ms/step - loss: 0.4327 - accuracy: 0.9028\n",
            "Epoch 113/200\n",
            "3/3 [==============================] - 0s 8ms/step - loss: 0.4305 - accuracy: 0.9028\n",
            "Epoch 114/200\n",
            "3/3 [==============================] - 0s 7ms/step - loss: 0.4199 - accuracy: 0.9028\n",
            "Epoch 115/200\n",
            "3/3 [==============================] - 0s 7ms/step - loss: 0.4132 - accuracy: 0.9306\n",
            "Epoch 116/200\n",
            "3/3 [==============================] - 0s 7ms/step - loss: 0.4119 - accuracy: 0.9444\n",
            "Epoch 117/200\n",
            "3/3 [==============================] - 0s 7ms/step - loss: 0.4027 - accuracy: 0.9444\n",
            "Epoch 118/200\n",
            "3/3 [==============================] - 0s 7ms/step - loss: 0.3911 - accuracy: 0.9444\n",
            "Epoch 119/200\n",
            "3/3 [==============================] - 0s 7ms/step - loss: 0.3818 - accuracy: 0.9306\n",
            "Epoch 120/200\n",
            "3/3 [==============================] - 0s 8ms/step - loss: 0.3778 - accuracy: 0.9306\n",
            "Epoch 121/200\n",
            "3/3 [==============================] - 0s 7ms/step - loss: 0.3716 - accuracy: 0.9306\n",
            "Epoch 122/200\n",
            "3/3 [==============================] - 0s 7ms/step - loss: 0.3650 - accuracy: 0.9306\n",
            "Epoch 123/200\n",
            "3/3 [==============================] - 0s 7ms/step - loss: 0.3594 - accuracy: 0.9444\n",
            "Epoch 124/200\n",
            "3/3 [==============================] - 0s 7ms/step - loss: 0.3528 - accuracy: 0.9444\n",
            "Epoch 125/200\n",
            "3/3 [==============================] - 0s 7ms/step - loss: 0.3458 - accuracy: 0.9583\n",
            "Epoch 126/200\n",
            "3/3 [==============================] - 0s 7ms/step - loss: 0.3465 - accuracy: 0.9583\n",
            "Epoch 127/200\n",
            "3/3 [==============================] - 0s 9ms/step - loss: 0.3398 - accuracy: 0.9583\n",
            "Epoch 128/200\n",
            "3/3 [==============================] - 0s 7ms/step - loss: 0.3292 - accuracy: 0.9722\n",
            "Epoch 129/200\n",
            "3/3 [==============================] - 0s 7ms/step - loss: 0.3256 - accuracy: 0.9722\n",
            "Epoch 130/200\n",
            "3/3 [==============================] - 0s 8ms/step - loss: 0.3166 - accuracy: 0.9722\n",
            "Epoch 131/200\n",
            "3/3 [==============================] - 0s 8ms/step - loss: 0.3157 - accuracy: 0.9722\n",
            "Epoch 132/200\n",
            "3/3 [==============================] - 0s 7ms/step - loss: 0.3187 - accuracy: 0.9722\n",
            "Epoch 133/200\n",
            "3/3 [==============================] - 0s 9ms/step - loss: 0.3080 - accuracy: 0.9722\n",
            "Epoch 134/200\n",
            "3/3 [==============================] - 0s 7ms/step - loss: 0.2993 - accuracy: 0.9861\n",
            "Epoch 135/200\n",
            "3/3 [==============================] - 0s 7ms/step - loss: 0.2974 - accuracy: 0.9861\n",
            "Epoch 136/200\n",
            "3/3 [==============================] - 0s 7ms/step - loss: 0.2915 - accuracy: 0.9861\n",
            "Epoch 137/200\n",
            "3/3 [==============================] - 0s 8ms/step - loss: 0.2844 - accuracy: 0.9861\n",
            "Epoch 138/200\n",
            "3/3 [==============================] - 0s 7ms/step - loss: 0.2786 - accuracy: 1.0000\n",
            "Epoch 139/200\n",
            "3/3 [==============================] - 0s 7ms/step - loss: 0.2734 - accuracy: 1.0000\n",
            "Epoch 140/200\n",
            "3/3 [==============================] - 0s 7ms/step - loss: 0.2704 - accuracy: 1.0000\n",
            "Epoch 141/200\n",
            "3/3 [==============================] - 0s 7ms/step - loss: 0.2652 - accuracy: 1.0000\n",
            "Epoch 142/200\n",
            "3/3 [==============================] - 0s 8ms/step - loss: 0.2597 - accuracy: 1.0000\n",
            "Epoch 143/200\n",
            "3/3 [==============================] - 0s 6ms/step - loss: 0.2618 - accuracy: 1.0000\n",
            "Epoch 144/200\n",
            "3/3 [==============================] - 0s 7ms/step - loss: 0.2597 - accuracy: 0.9861\n",
            "Epoch 145/200\n",
            "3/3 [==============================] - 0s 7ms/step - loss: 0.2514 - accuracy: 0.9861\n",
            "Epoch 146/200\n",
            "3/3 [==============================] - 0s 7ms/step - loss: 0.2434 - accuracy: 1.0000\n",
            "Epoch 147/200\n",
            "3/3 [==============================] - 0s 7ms/step - loss: 0.2411 - accuracy: 1.0000\n",
            "Epoch 148/200\n",
            "3/3 [==============================] - 0s 7ms/step - loss: 0.2376 - accuracy: 1.0000\n",
            "Epoch 149/200\n",
            "3/3 [==============================] - 0s 7ms/step - loss: 0.2332 - accuracy: 1.0000\n",
            "Epoch 150/200\n",
            "3/3 [==============================] - 0s 7ms/step - loss: 0.2283 - accuracy: 1.0000\n",
            "Epoch 151/200\n",
            "3/3 [==============================] - 0s 7ms/step - loss: 0.2256 - accuracy: 1.0000\n",
            "Epoch 152/200\n",
            "3/3 [==============================] - 0s 7ms/step - loss: 0.2214 - accuracy: 1.0000\n",
            "Epoch 153/200\n",
            "3/3 [==============================] - 0s 8ms/step - loss: 0.2178 - accuracy: 1.0000\n",
            "Epoch 154/200\n",
            "3/3 [==============================] - 0s 7ms/step - loss: 0.2139 - accuracy: 1.0000\n",
            "Epoch 155/200\n",
            "3/3 [==============================] - 0s 8ms/step - loss: 0.2115 - accuracy: 1.0000\n",
            "Epoch 156/200\n",
            "3/3 [==============================] - 0s 7ms/step - loss: 0.2097 - accuracy: 1.0000\n",
            "Epoch 157/200\n",
            "3/3 [==============================] - 0s 8ms/step - loss: 0.2056 - accuracy: 1.0000\n",
            "Epoch 158/200\n",
            "3/3 [==============================] - 0s 7ms/step - loss: 0.2019 - accuracy: 1.0000\n",
            "Epoch 159/200\n",
            "3/3 [==============================] - 0s 8ms/step - loss: 0.1984 - accuracy: 1.0000\n",
            "Epoch 160/200\n",
            "3/3 [==============================] - 0s 7ms/step - loss: 0.1943 - accuracy: 1.0000\n",
            "Epoch 161/200\n",
            "3/3 [==============================] - 0s 8ms/step - loss: 0.1923 - accuracy: 1.0000\n",
            "Epoch 162/200\n",
            "3/3 [==============================] - 0s 8ms/step - loss: 0.1901 - accuracy: 1.0000\n",
            "Epoch 163/200\n",
            "3/3 [==============================] - 0s 8ms/step - loss: 0.1868 - accuracy: 1.0000\n",
            "Epoch 164/200\n",
            "3/3 [==============================] - 0s 8ms/step - loss: 0.1821 - accuracy: 1.0000\n",
            "Epoch 165/200\n",
            "3/3 [==============================] - 0s 9ms/step - loss: 0.1804 - accuracy: 1.0000\n",
            "Epoch 166/200\n",
            "3/3 [==============================] - 0s 7ms/step - loss: 0.1780 - accuracy: 1.0000\n",
            "Epoch 167/200\n",
            "3/3 [==============================] - 0s 9ms/step - loss: 0.1735 - accuracy: 1.0000\n",
            "Epoch 168/200\n",
            "3/3 [==============================] - 0s 7ms/step - loss: 0.1709 - accuracy: 1.0000\n",
            "Epoch 169/200\n",
            "3/3 [==============================] - 0s 7ms/step - loss: 0.1720 - accuracy: 1.0000\n",
            "Epoch 170/200\n",
            "3/3 [==============================] - 0s 7ms/step - loss: 0.1705 - accuracy: 1.0000\n",
            "Epoch 171/200\n",
            "3/3 [==============================] - 0s 6ms/step - loss: 0.1656 - accuracy: 1.0000\n",
            "Epoch 172/200\n",
            "3/3 [==============================] - 0s 9ms/step - loss: 0.1603 - accuracy: 1.0000\n",
            "Epoch 173/200\n",
            "3/3 [==============================] - 0s 7ms/step - loss: 0.1574 - accuracy: 1.0000\n",
            "Epoch 174/200\n",
            "3/3 [==============================] - 0s 7ms/step - loss: 0.1553 - accuracy: 1.0000\n",
            "Epoch 175/200\n",
            "3/3 [==============================] - 0s 7ms/step - loss: 0.1528 - accuracy: 1.0000\n",
            "Epoch 176/200\n",
            "3/3 [==============================] - 0s 7ms/step - loss: 0.1505 - accuracy: 1.0000\n",
            "Epoch 177/200\n",
            "3/3 [==============================] - 0s 8ms/step - loss: 0.1483 - accuracy: 1.0000\n",
            "Epoch 178/200\n",
            "3/3 [==============================] - 0s 8ms/step - loss: 0.1461 - accuracy: 1.0000\n",
            "Epoch 179/200\n",
            "3/3 [==============================] - 0s 6ms/step - loss: 0.1440 - accuracy: 1.0000\n",
            "Epoch 180/200\n",
            "3/3 [==============================] - 0s 7ms/step - loss: 0.1416 - accuracy: 1.0000\n",
            "Epoch 181/200\n",
            "3/3 [==============================] - 0s 8ms/step - loss: 0.1398 - accuracy: 1.0000\n",
            "Epoch 182/200\n",
            "3/3 [==============================] - 0s 8ms/step - loss: 0.1388 - accuracy: 1.0000\n",
            "Epoch 183/200\n",
            "3/3 [==============================] - 0s 7ms/step - loss: 0.1373 - accuracy: 1.0000\n",
            "Epoch 184/200\n",
            "3/3 [==============================] - 0s 6ms/step - loss: 0.1341 - accuracy: 1.0000\n",
            "Epoch 185/200\n",
            "3/3 [==============================] - 0s 7ms/step - loss: 0.1316 - accuracy: 1.0000\n",
            "Epoch 186/200\n",
            "3/3 [==============================] - 0s 7ms/step - loss: 0.1292 - accuracy: 1.0000\n",
            "Epoch 187/200\n",
            "3/3 [==============================] - 0s 7ms/step - loss: 0.1335 - accuracy: 1.0000\n",
            "Epoch 188/200\n",
            "3/3 [==============================] - 0s 7ms/step - loss: 0.1344 - accuracy: 1.0000\n",
            "Epoch 189/200\n",
            "3/3 [==============================] - 0s 7ms/step - loss: 0.1264 - accuracy: 1.0000\n",
            "Epoch 190/200\n",
            "3/3 [==============================] - 0s 7ms/step - loss: 0.1240 - accuracy: 1.0000\n",
            "Epoch 191/200\n",
            "3/3 [==============================] - 0s 7ms/step - loss: 0.1252 - accuracy: 1.0000\n",
            "Epoch 192/200\n",
            "3/3 [==============================] - 0s 7ms/step - loss: 0.1220 - accuracy: 1.0000\n",
            "Epoch 193/200\n",
            "3/3 [==============================] - 0s 8ms/step - loss: 0.1177 - accuracy: 1.0000\n",
            "Epoch 194/200\n",
            "3/3 [==============================] - 0s 7ms/step - loss: 0.1161 - accuracy: 1.0000\n",
            "Epoch 195/200\n",
            "3/3 [==============================] - 0s 7ms/step - loss: 0.1152 - accuracy: 1.0000\n",
            "Epoch 196/200\n",
            "3/3 [==============================] - 0s 9ms/step - loss: 0.1133 - accuracy: 1.0000\n",
            "Epoch 197/200\n",
            "3/3 [==============================] - 0s 7ms/step - loss: 0.1109 - accuracy: 1.0000\n",
            "Epoch 198/200\n",
            "3/3 [==============================] - 0s 8ms/step - loss: 0.1091 - accuracy: 1.0000\n",
            "Epoch 199/200\n",
            "3/3 [==============================] - 0s 8ms/step - loss: 0.1089 - accuracy: 1.0000\n",
            "Epoch 200/200\n",
            "3/3 [==============================] - 0s 6ms/step - loss: 0.1075 - accuracy: 1.0000\n"
          ]
        }
      ]
    },
    {
      "cell_type": "markdown",
      "source": [
        "**Part 5 - Model Analysis**\n",
        "\n",
        "The model got a perfect accuracy of 100%."
      ],
      "metadata": {
        "id": "76NhTN-Xc-K-"
      }
    },
    {
      "cell_type": "markdown",
      "source": [
        "***5.1 - Plotting model accuracy***"
      ],
      "metadata": {
        "id": "MAwc9b7idRcP"
      }
    },
    {
      "cell_type": "code",
      "source": [
        "plt.plot(train.history['accuracy'],label='training set accuracy')\n",
        "plt.plot(train.history['loss'],label='training set loss')\n",
        "plt.legend()"
      ],
      "metadata": {
        "id": "v2g4BRGCdbAk",
        "colab": {
          "base_uri": "https://localhost:8080/",
          "height": 282
        },
        "outputId": "24c7fbd3-5193-46c8-cd1c-946e62c107e7"
      },
      "execution_count": 24,
      "outputs": [
        {
          "output_type": "execute_result",
          "data": {
            "text/plain": [
              "<matplotlib.legend.Legend at 0x7f5bc9bfa390>"
            ]
          },
          "metadata": {},
          "execution_count": 24
        },
        {
          "output_type": "display_data",
          "data": {
            "text/plain": [
              "<Figure size 432x288 with 1 Axes>"
            ],
            "image/png": "[encoded data removed]"
          },
          "metadata": {
            "needs_background": "light"
          }
        }
      ]
    },
    {
      "cell_type": "markdown",
      "source": [
        "**Part 6 - Testing**\n",
        "\n",
        "I have also tested the model in a way to mimic a human interacting with a bot and got positive results. however, This was very simple because of the tiny amount of data that I have created. but, the same model can also be used with large amount of data."
      ],
      "metadata": {
        "id": "47C1XCm1dwxl"
      }
    },
    {
      "cell_type": "code",
      "source": [
        "#chatting\n",
        "import random\n",
        "\n",
        "\n",
        "while True:\n",
        "  texts_p = []\n",
        "  prediction_input = input('You : ')\n",
        "\n",
        "  #removing punctuation and converting to lowercase\n",
        "  prediction_input = [letters.lower() for letters in prediction_input if letters not in string.punctuation]\n",
        "  prediction_input = ''.join(prediction_input)\n",
        "  texts_p.append(prediction_input)\n",
        "\n",
        "  #tokenizing and padding\n",
        "  prediction_input = tokenizer.texts_to_sequences(texts_p)\n",
        "  prediction_input = np.array(prediction_input).reshape(-1)\n",
        "  prediction_input = pad_sequences([prediction_input],input_shape)\n",
        "\n",
        "  #getting output from model\n",
        "  output = model.predict(prediction_input)\n",
        "  output = output.argmax()\n",
        "\n",
        "  #finding the right tag and predicting\n",
        "  response_tag = le.inverse_transform([output])[0]\n",
        "  print(\"Abida's Bot : \",random.choice(responses[response_tag]))\n",
        "  if response_tag == \"goodbye\":\n",
        "    break"
      ],
      "metadata": {
        "id": "Ff73S9VEeBHF",
        "colab": {
          "base_uri": "https://localhost:8080/"
        },
        "outputId": "6e9c72cd-2b51-4cf0-9c44-a150e599091e"
      },
      "execution_count": 26,
      "outputs": [
        {
          "output_type": "stream",
          "name": "stdout",
          "text": [
            "You : bye\n",
            "Abida's Bot :  Take care\n"
          ]
        }
      ]
    },
    {
      "cell_type": "markdown",
      "source": [
        "**Part 7 - Conclusion**\n",
        "\n",
        "This is the Chatbot that I have created with tensorflow2 utilizing the power of embedding matrix."
      ],
      "metadata": {
        "id": "_y-YM-QPePnw"
      }
    }
  ]
}